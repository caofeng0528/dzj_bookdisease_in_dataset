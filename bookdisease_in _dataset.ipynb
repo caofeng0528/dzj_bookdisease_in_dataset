{
 "cells": [
  {
   "cell_type": "code",
   "execution_count": 7,
   "id": "89166d6f",
   "metadata": {},
   "outputs": [],
   "source": [
    "import pandas as pd\n",
    "import pymysql\n",
    "from sql_con.conn import get_con_db\n",
    "import os \n",
    "import pdfplumber\n",
    "import re\n",
    "from tqdm import tqdm\n",
    "import docx"
   ]
  },
  {
   "cell_type": "code",
   "execution_count": 46,
   "id": "8199c0a4",
   "metadata": {},
   "outputs": [
    {
     "name": "stderr",
     "output_type": "stream",
     "text": [
      "\r",
      "  0%|                                                         | 0/12 [00:00<?, ?it/s]"
     ]
    },
    {
     "name": "stdout",
     "output_type": "stream",
     "text": [
      "正在提取文件 《妇产科学》人卫第9版教材--高清彩色.pdf \n"
     ]
    },
    {
     "name": "stderr",
     "output_type": "stream",
     "text": [
      "\r",
      "  8%|████                                             | 1/12 [00:57<10:35, 57.73s/it]"
     ]
    },
    {
     "name": "stdout",
     "output_type": "stream",
     "text": [
      "文件 《妇产科学》人卫第9版教材--高清彩色.pdf 提取完成\n",
      "正在提取文件 22.眼科学_第9版_全书签_可复制检索.pdf \n"
     ]
    },
    {
     "name": "stderr",
     "output_type": "stream",
     "text": [
      "\r",
      " 17%|████████▏                                        | 2/12 [02:27<12:45, 76.60s/it]"
     ]
    },
    {
     "name": "stdout",
     "output_type": "stream",
     "text": [
      "文件 22.眼科学_第9版_全书签_可复制检索.pdf 提取完成\n",
      "正在提取文件 23.传染病学_第9版_全书签_可复制检索.pdf \n"
     ]
    },
    {
     "name": "stderr",
     "output_type": "stream",
     "text": [
      "\r",
      " 25%|████████████▎                                    | 3/12 [04:19<13:55, 92.79s/it]"
     ]
    },
    {
     "name": "stdout",
     "output_type": "stream",
     "text": [
      "文件 23.传染病学_第9版_全书签_可复制检索.pdf 提取完成\n",
      "正在提取文件 皮肤性病学 第9版_张学军，郑捷主编2018年（彩图）可检索.pdf \n"
     ]
    },
    {
     "name": "stderr",
     "output_type": "stream",
     "text": [
      "\r",
      " 42%|████████████████████▍                            | 5/12 [05:36<07:13, 61.95s/it]"
     ]
    },
    {
     "name": "stdout",
     "output_type": "stream",
     "text": [
      "文件 皮肤性病学 第9版_张学军，郑捷主编2018年（彩图）可检索.pdf 提取完成\n",
      "正在提取文件 神经病学 第8版.pdf \n"
     ]
    },
    {
     "name": "stderr",
     "output_type": "stream",
     "text": [
      "\r",
      " 50%|████████████████████████▌                        | 6/12 [06:31<06:00, 60.15s/it]"
     ]
    },
    {
     "name": "stdout",
     "output_type": "stream",
     "text": [
      "文件 神经病学 第8版.pdf 提取完成\n",
      "正在提取文件 执业医师考试大纲.pdf \n",
      "文件 执业医师考试大纲.pdf 提取完成\n",
      "正在提取文件 《外科学》人卫第9版教材--高清彩色.docx \n"
     ]
    },
    {
     "name": "stderr",
     "output_type": "stream",
     "text": [
      "\r",
      " 67%|████████████████████████████████▋                | 8/12 [06:33<02:13, 33.36s/it]"
     ]
    },
    {
     "name": "stdout",
     "output_type": "stream",
     "text": [
      "文件 《外科学》人卫第9版教材--高清彩色.docx 提取完成\n",
      "正在提取文件 《儿科学》人卫第9版教材--高清彩色.pdf \n"
     ]
    },
    {
     "name": "stderr",
     "output_type": "stream",
     "text": [
      "\r",
      " 75%|████████████████████████████████████▊            | 9/12 [07:39<02:04, 41.40s/it]"
     ]
    },
    {
     "name": "stdout",
     "output_type": "stream",
     "text": [
      "文件 《儿科学》人卫第9版教材--高清彩色.pdf 提取完成\n",
      "正在提取文件 《内科学》人卫第9版教材--高清彩色.docx \n"
     ]
    },
    {
     "name": "stderr",
     "output_type": "stream",
     "text": [
      "\r",
      " 83%|████████████████████████████████████████        | 10/12 [07:42<01:02, 31.27s/it]"
     ]
    },
    {
     "name": "stdout",
     "output_type": "stream",
     "text": [
      "文件 《内科学》人卫第9版教材--高清彩色.docx 提取完成\n",
      "正在提取文件 30.口腔科学 第9版可复制.docx \n"
     ]
    },
    {
     "name": "stderr",
     "output_type": "stream",
     "text": [
      "100%|████████████████████████████████████████████████| 12/12 [07:42<00:00, 38.54s/it]\n"
     ]
    },
    {
     "name": "stdout",
     "output_type": "stream",
     "text": [
      "文件 30.口腔科学 第9版可复制.docx 提取完成\n"
     ]
    },
    {
     "name": "stderr",
     "output_type": "stream",
     "text": [
      "100%|███████████████████████████████████████████████| 1/1 [00:00<00:00, 20068.44it/s]\n"
     ]
    }
   ],
   "source": [
    "pdf_dict = {}  \n",
    "docx_dict = {}\n",
    "for root, dirs, files in os.walk('./book_pdf'):  \n",
    "    for file in tqdm(files):       \n",
    "        if os.path.splitext(file)[1] == '.pdf':  # 想要保存的文件格式\n",
    "            print('正在提取文件 %s '%file)\n",
    "            pdf_full_name = os.path.join(root,file)\n",
    "            pdf_book_text = []\n",
    "            if pdf_full_name != './book_pdf/执业医师考试大纲.pdf':\n",
    "                with pdfplumber.open(pdf_full_name) as pdf:\n",
    "                    for page in pdf.pages:\n",
    "                        pdf_book_text.append(page.extract_text())\n",
    "            path_string = file\n",
    "            pattern = re.compile(r'([^<>/\\\\\\|:\"\"\\*\\?]+)\\.\\w+$')\n",
    "            book_name = pattern.findall(path_string)\n",
    "            pdf_dict[book_name[0]] = ','.join(pdf_book_text)\n",
    "            print('文件 %s 提取完成'% file)\n",
    "            \n",
    "        if os.path.splitext(file)[1] == '.docx': \n",
    "            print('正在提取文件 %s '%file)\n",
    "            docx_full_name = os.path.join(root,file)\n",
    "            docx_book_text = []\n",
    "            docx_file = docx.Document(docx_full_name)\n",
    "            for p in docx_file.paragraphs:\n",
    "                docx_book_text.append(p.text)\n",
    "            path_string = file\n",
    "            pattern = re.compile(r'([^<>/\\\\\\|:\"\"\\*\\?]+)\\.\\w+$')\n",
    "            book_name = pattern.findall(path_string)\n",
    "            docx_dict[book_name[0]] = ','.join(docx_book_text)\n",
    "            print('文件 %s 提取完成'% file)            \n",
    "book_dict = dict(pdf_dict, **docx_dict)\n",
    "\n",
    "con = get_con_db()\n",
    "sql = '''\n",
    "    select disease_name from dzj.tb_disease\n",
    "'''\n",
    "disease = pd.read_sql(sql,con)\n",
    "disease.drop_duplicates(subset='disease_name',keep='first',inplace=True)\n",
    "disease.reset_index(inplace=True,drop=True)\n",
    "disease['book_name'] = ''\n",
    "\n",
    "for i,row in disease.iterrows():\n",
    "    disease_name = row['disease_name']\n",
    "    for j in book_dict:\n",
    "        book_text = book_dict[j]\n",
    "        if disease_name in book_text:\n",
    "            if disease.loc[disease['disease_name'] == disease_name,'book_name'].values != '':\n",
    "                    disease.loc[disease['disease_name'] == disease_name,'book_name'] += ','+j\n",
    "            else:\n",
    "                disease.loc[disease['disease_name'] == disease_name,'book_name'] = j\n",
    "        else:\n",
    "            continue\n",
    "# disease_in_book = disease.to_csv('./book_pdf/疾病对应书籍_1.csv')"
   ]
  },
  {
   "cell_type": "code",
   "execution_count": 47,
   "id": "79a22602",
   "metadata": {},
   "outputs": [
    {
     "data": {
      "text/plain": [
       "                                                                                                35545\n",
       "《外科学》人卫第9版教材--高清彩色                                                                                666\n",
       "《内科学》人卫第9版教材--高清彩色                                                                                562\n",
       "神经病学 第8版                                                                                          437\n",
       "22.眼科学_第9版_全书签_可复制检索                                                                              392\n",
       "                                                                                                ...  \n",
       "22.眼科学_第9版_全书签_可复制检索,23.传染病学_第9版_全书签_可复制检索,神经病学 第8版,《内科学》人卫第9版教材--高清彩色,30.口腔科学 第9版可复制               1\n",
       "23.传染病学_第9版_全书签_可复制检索,神经病学 第8版,《儿科学》人卫第9版教材--高清彩色,《外科学》人卫第9版教材--高清彩色,30.口腔科学 第9版可复制                 1\n",
       "22.眼科学_第9版_全书签_可复制检索,皮肤性病学 第9版_张学军，郑捷主编2018年（彩图）可检索,《儿科学》人卫第9版教材--高清彩色                              1\n",
       "《妇产科学》人卫第9版教材--高清彩色,22.眼科学_第9版_全书签_可复制检索,神经病学 第8版,《儿科学》人卫第9版教材--高清彩色                                1\n",
       "皮肤性病学 第9版_张学军，郑捷主编2018年（彩图）可检索,神经病学 第8版,《儿科学》人卫第9版教材--高清彩色,《外科学》人卫第9版教材--高清彩色,30.口腔科学 第9版可复制        1\n",
       "Name: book_name, Length: 305, dtype: int64"
      ]
     },
     "execution_count": 47,
     "metadata": {},
     "output_type": "execute_result"
    }
   ],
   "source": [
    "disease['book_name'].value_counts()"
   ]
  }
 ],
 "metadata": {
  "kernelspec": {
   "display_name": "Python 3 (ipykernel)",
   "language": "python",
   "name": "python3"
  },
  "language_info": {
   "codemirror_mode": {
    "name": "ipython",
    "version": 3
   },
   "file_extension": ".py",
   "mimetype": "text/x-python",
   "name": "python",
   "nbconvert_exporter": "python",
   "pygments_lexer": "ipython3",
   "version": "3.8.8"
  }
 },
 "nbformat": 4,
 "nbformat_minor": 5
}
